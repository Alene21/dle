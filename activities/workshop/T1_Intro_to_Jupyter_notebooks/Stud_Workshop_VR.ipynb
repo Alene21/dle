{
 "cells": [
  {
   "cell_type": "markdown",
   "id": "31b9e8d8-058c-4b6b-b144-8835a2ee44a8",
   "metadata": {},
   "source": [
    "\n",
    "<b style=\"font-family:Arial;font-size:20pt;\"> Introduction to Jupyter notebook </b> <br>\n",
    "<div align=\"left\">\n",
    "<img  align=\"left\" src= https://project.lsst.org/sites/default/files/Rubin-O-Logo_0.png width=80 style=\"padding: 10px\">\n",
    "<img align=\"left\" src =http://www.matf.bg.ac.rs/images/matf.gif width=65 style=\"padding: 10px\">  \n",
    "</div>\n",
    "\n",
    "\n",
    "<i> by Viktor Radović, <a href=\"mailto:rviktor@matf.bg.ac.rs\"> rviktor@matf.bg.ac.rs </a> <a href=\"mailto:viktor.radovic@gmail.com\"> viktor.radovic@gmail.com </a> </i> <br>\n",
    " <u> Python for data processing of AGN variability within LSST, Student workshop, 26th March 2022. </u>\n",
    "\n",
    "<hr>"
   ]
  },
  {
   "cell_type": "markdown",
   "id": "d2c9df09-d07c-4367-b730-2436862cd7f7",
   "metadata": {},
   "source": [
    "### Summary\n",
    "<ul style=\"list-style-type:sqare\">\n",
    "    <li> What is Jupyter notebook ? </li>\n",
    "    <li> Ready, set, go! </li>\n",
    "    <li> Programming - <i> Code option </i> </li>\n",
    "    <li> Rich textual elements  - <i> Markdown option</i> </li>\n",
    "    <li> Magic commands </li>\n",
    "    <li> Interactive Jupyter notebook - a qucik look </li>\n",
    "    <li> Saving your work </li>\n",
    "</ul>\n",
    "<hr>"
   ]
  },
  {
   "cell_type": "markdown",
   "id": "c8bed7a8-5732-4d75-bc5e-3b3ea747bbe4",
   "metadata": {},
   "source": [
    "####  <b> 1. What is Jupyter notebook ?  </b>\n",
    "\n",
    "Jupyter notebook denotes one document that contains <b> both code and rich textual elements </b>(figures, links, equations, ...). That helps us combine the working code examples that can be executed with description and its results, which is ideal for presentations of our work.\n",
    "\n",
    "The name \"Jupyter\" is an acronym meaning Julia, Python and R. These programming languages were the first ones that were included in the Jupyter application, but today, Jupyter notebook technology supports many other languages (a complete list can be seen <a href=\"https://github.com/jupyter/jupyter/wiki/Jupyter-kernels\">here</a>).\n",
    "\n",
    "The  Jupyter Notebook App allows us to edit and run our notebooks via a web browser, as it is a server-client application. It can be executed on a PC without Internet access, or it can be accessed through the Internet if it is installed on the remote server.\n",
    "\n",
    "Its two main components are the <b>kernels</b> and a <b>dashboard</b>.\n",
    "<ul style=\"list-style-position:inside;\"> \n",
    "    <li> The kernel is the computational engine for the notebook. It executes the user's code. Users can change a kernel easily for each notebook. The Jupyter Notebook App has a kernel for Python code, but kernels are also available for many other programming languages.</li>\n",
    "<li> The application dashboard shows you the notebook documents that you have made and can reopen but can also be used to manage the kernels: you can see which ones are running and shut them down if necessary. </li>\n",
    "    </ul>\n",
    "<hr>"
   ]
  },
  {
   "cell_type": "markdown",
   "id": "6d4ec699-5189-4695-b74f-28936dd4eaee",
   "metadata": {},
   "source": [
    "####  <b> 2. Ready, set, go </b>\n",
    "<b> 2. 1. Installation </b>\n",
    "\n",
    "\n",
    "Jypyter notebooks can be installed using various ways (depending on the used system). One of the most commonly used ways is by installing Anaconda for Python, which integrates Jupyter notebooks. For detailed explanations see this <a href=\"https://www.youtube.com/watch?v=9tPS-7TWjq0\"> YT video </a>.\n",
    "\n",
    "\n",
    "<b> 2. 2. Getting Started  </b>\n",
    "\n",
    "To start a Jupyter notebook, go to your terminal application and run one of these two commands:\n",
    "\n",
    "`$ jupyter notebook`\n",
    "\n",
    "or \n",
    "\n",
    "`$ jupyter lab`.\n",
    "\n",
    "The application will be opened in the web browser, usually on the following address: http://localhost:8888, and you will immediately see the notebook name, a menu bar, a toolbar, and an empty code cell.\n",
    "\n",
    "In the notebook environment, to create a new Notebook we need to click on the \"New\" button in the \"Files\" tab. We can see that we have the option to make a regular text file, a folder, or start a terminal. Also, there will be an option to make a Python 3 (or maybe more kernels will be shown) notebook.\n",
    "\n",
    "In the lab environment, we go to the File -> New and choose the Notebook option. After that, we will be prompted to choose the desired kernel.\n",
    "\n",
    "\n",
    "\n",
    "<img align = \"center\" src = http://enastava.matf.bg.ac.rs/~rviktor/test2.gif >\n",
    "\n",
    "<hr>"
   ]
  },
  {
   "cell_type": "markdown",
   "id": "399cbef9-44e2-481c-967e-c13fcfa9dd0f",
   "metadata": {},
   "source": [
    "####  <b> 3. Programming - <i> Code option </i> </b>\n",
    "\n",
    "To run (execute) each cell, you need to press <i> Run the selected cells button</i> or press the Ctrl + Enter combination on the keyboard.\n",
    "\n",
    "Here is one code example using the python package Pandas.\n"
   ]
  },
  {
   "cell_type": "code",
   "execution_count": 28,
   "id": "de1231d8-6fb3-4eb5-ac3e-5984fa788d22",
   "metadata": {},
   "outputs": [],
   "source": [
    "import numpy as np\n",
    "import pandas as pd"
   ]
  },
  {
   "cell_type": "markdown",
   "id": "a6f95b2a-5648-41d5-8105-68b56c8c49f4",
   "metadata": {},
   "source": [
    "**Reading tabular data file**"
   ]
  },
  {
   "cell_type": "code",
   "execution_count": 36,
   "id": "e0cfd4c1-cd30-4cb3-ba72-4e57a9f82da6",
   "metadata": {},
   "outputs": [
    {
     "data": {
      "text/html": [
       "<div>\n",
       "<style scoped>\n",
       "    .dataframe tbody tr th:only-of-type {\n",
       "        vertical-align: middle;\n",
       "    }\n",
       "\n",
       "    .dataframe tbody tr th {\n",
       "        vertical-align: top;\n",
       "    }\n",
       "\n",
       "    .dataframe thead th {\n",
       "        text-align: right;\n",
       "    }\n",
       "</style>\n",
       "<table border=\"1\" class=\"dataframe\">\n",
       "  <thead>\n",
       "    <tr style=\"text-align: right;\">\n",
       "      <th></th>\n",
       "      <th>method</th>\n",
       "      <th>number</th>\n",
       "      <th>orbital_period</th>\n",
       "      <th>mass</th>\n",
       "      <th>distance</th>\n",
       "      <th>year</th>\n",
       "    </tr>\n",
       "  </thead>\n",
       "  <tbody>\n",
       "    <tr>\n",
       "      <th>0</th>\n",
       "      <td>Radial Velocity</td>\n",
       "      <td>1</td>\n",
       "      <td>269.300000</td>\n",
       "      <td>7.10</td>\n",
       "      <td>77.40</td>\n",
       "      <td>2006</td>\n",
       "    </tr>\n",
       "    <tr>\n",
       "      <th>1</th>\n",
       "      <td>Radial Velocity</td>\n",
       "      <td>1</td>\n",
       "      <td>874.774000</td>\n",
       "      <td>2.21</td>\n",
       "      <td>56.95</td>\n",
       "      <td>2008</td>\n",
       "    </tr>\n",
       "    <tr>\n",
       "      <th>2</th>\n",
       "      <td>Radial Velocity</td>\n",
       "      <td>1</td>\n",
       "      <td>763.000000</td>\n",
       "      <td>2.60</td>\n",
       "      <td>19.84</td>\n",
       "      <td>2011</td>\n",
       "    </tr>\n",
       "    <tr>\n",
       "      <th>3</th>\n",
       "      <td>Radial Velocity</td>\n",
       "      <td>1</td>\n",
       "      <td>326.030000</td>\n",
       "      <td>19.40</td>\n",
       "      <td>110.62</td>\n",
       "      <td>2007</td>\n",
       "    </tr>\n",
       "    <tr>\n",
       "      <th>4</th>\n",
       "      <td>Radial Velocity</td>\n",
       "      <td>1</td>\n",
       "      <td>516.220000</td>\n",
       "      <td>10.50</td>\n",
       "      <td>119.47</td>\n",
       "      <td>2009</td>\n",
       "    </tr>\n",
       "    <tr>\n",
       "      <th>...</th>\n",
       "      <td>...</td>\n",
       "      <td>...</td>\n",
       "      <td>...</td>\n",
       "      <td>...</td>\n",
       "      <td>...</td>\n",
       "      <td>...</td>\n",
       "    </tr>\n",
       "    <tr>\n",
       "      <th>1030</th>\n",
       "      <td>Transit</td>\n",
       "      <td>1</td>\n",
       "      <td>3.941507</td>\n",
       "      <td>NaN</td>\n",
       "      <td>172.00</td>\n",
       "      <td>2006</td>\n",
       "    </tr>\n",
       "    <tr>\n",
       "      <th>1031</th>\n",
       "      <td>Transit</td>\n",
       "      <td>1</td>\n",
       "      <td>2.615864</td>\n",
       "      <td>NaN</td>\n",
       "      <td>148.00</td>\n",
       "      <td>2007</td>\n",
       "    </tr>\n",
       "    <tr>\n",
       "      <th>1032</th>\n",
       "      <td>Transit</td>\n",
       "      <td>1</td>\n",
       "      <td>3.191524</td>\n",
       "      <td>NaN</td>\n",
       "      <td>174.00</td>\n",
       "      <td>2007</td>\n",
       "    </tr>\n",
       "    <tr>\n",
       "      <th>1033</th>\n",
       "      <td>Transit</td>\n",
       "      <td>1</td>\n",
       "      <td>4.125083</td>\n",
       "      <td>NaN</td>\n",
       "      <td>293.00</td>\n",
       "      <td>2008</td>\n",
       "    </tr>\n",
       "    <tr>\n",
       "      <th>1034</th>\n",
       "      <td>Transit</td>\n",
       "      <td>1</td>\n",
       "      <td>4.187757</td>\n",
       "      <td>NaN</td>\n",
       "      <td>260.00</td>\n",
       "      <td>2008</td>\n",
       "    </tr>\n",
       "  </tbody>\n",
       "</table>\n",
       "<p>1035 rows × 6 columns</p>\n",
       "</div>"
      ],
      "text/plain": [
       "               method  number  orbital_period   mass  distance  year\n",
       "0     Radial Velocity       1      269.300000   7.10     77.40  2006\n",
       "1     Radial Velocity       1      874.774000   2.21     56.95  2008\n",
       "2     Radial Velocity       1      763.000000   2.60     19.84  2011\n",
       "3     Radial Velocity       1      326.030000  19.40    110.62  2007\n",
       "4     Radial Velocity       1      516.220000  10.50    119.47  2009\n",
       "...               ...     ...             ...    ...       ...   ...\n",
       "1030          Transit       1        3.941507    NaN    172.00  2006\n",
       "1031          Transit       1        2.615864    NaN    148.00  2007\n",
       "1032          Transit       1        3.191524    NaN    174.00  2007\n",
       "1033          Transit       1        4.125083    NaN    293.00  2008\n",
       "1034          Transit       1        4.187757    NaN    260.00  2008\n",
       "\n",
       "[1035 rows x 6 columns]"
      ]
     },
     "execution_count": 36,
     "metadata": {},
     "output_type": "execute_result"
    }
   ],
   "source": [
    "# Tabular data: data with rows and columns\n",
    "# Common formats: .csv, .dat, .tsv, .json\n",
    "\n",
    "sources = pd.read_table('planets.csv', sep=',')\n",
    "#sources = pd.read_table('ZTF_data/obj_catalog.csv', sep=',', usecols=['objID', 'meanra', 'meandec'], nrows=10)\n",
    "sources"
   ]
  },
  {
   "cell_type": "code",
   "execution_count": 8,
   "id": "c307e904-3f99-4dc7-a037-67f768a7be62",
   "metadata": {},
   "outputs": [
    {
     "data": {
      "text/html": [
       "<div>\n",
       "<style scoped>\n",
       "    .dataframe tbody tr th:only-of-type {\n",
       "        vertical-align: middle;\n",
       "    }\n",
       "\n",
       "    .dataframe tbody tr th {\n",
       "        vertical-align: top;\n",
       "    }\n",
       "\n",
       "    .dataframe thead th {\n",
       "        text-align: right;\n",
       "    }\n",
       "</style>\n",
       "<table border=\"1\" class=\"dataframe\">\n",
       "  <thead>\n",
       "    <tr style=\"text-align: right;\">\n",
       "      <th></th>\n",
       "      <th>method</th>\n",
       "      <th>number</th>\n",
       "      <th>orbital_period</th>\n",
       "      <th>mass</th>\n",
       "      <th>distance</th>\n",
       "      <th>year</th>\n",
       "    </tr>\n",
       "  </thead>\n",
       "  <tbody>\n",
       "    <tr>\n",
       "      <th>0</th>\n",
       "      <td>Radial Velocity</td>\n",
       "      <td>1</td>\n",
       "      <td>269.300</td>\n",
       "      <td>7.10</td>\n",
       "      <td>77.40</td>\n",
       "      <td>2006</td>\n",
       "    </tr>\n",
       "    <tr>\n",
       "      <th>1</th>\n",
       "      <td>Radial Velocity</td>\n",
       "      <td>1</td>\n",
       "      <td>874.774</td>\n",
       "      <td>2.21</td>\n",
       "      <td>56.95</td>\n",
       "      <td>2008</td>\n",
       "    </tr>\n",
       "    <tr>\n",
       "      <th>2</th>\n",
       "      <td>Radial Velocity</td>\n",
       "      <td>1</td>\n",
       "      <td>763.000</td>\n",
       "      <td>2.60</td>\n",
       "      <td>19.84</td>\n",
       "      <td>2011</td>\n",
       "    </tr>\n",
       "    <tr>\n",
       "      <th>3</th>\n",
       "      <td>Radial Velocity</td>\n",
       "      <td>1</td>\n",
       "      <td>326.030</td>\n",
       "      <td>19.40</td>\n",
       "      <td>110.62</td>\n",
       "      <td>2007</td>\n",
       "    </tr>\n",
       "    <tr>\n",
       "      <th>4</th>\n",
       "      <td>Radial Velocity</td>\n",
       "      <td>1</td>\n",
       "      <td>516.220</td>\n",
       "      <td>10.50</td>\n",
       "      <td>119.47</td>\n",
       "      <td>2009</td>\n",
       "    </tr>\n",
       "  </tbody>\n",
       "</table>\n",
       "</div>"
      ],
      "text/plain": [
       "            method  number  orbital_period   mass  distance  year\n",
       "0  Radial Velocity       1         269.300   7.10     77.40  2006\n",
       "1  Radial Velocity       1         874.774   2.21     56.95  2008\n",
       "2  Radial Velocity       1         763.000   2.60     19.84  2011\n",
       "3  Radial Velocity       1         326.030  19.40    110.62  2007\n",
       "4  Radial Velocity       1         516.220  10.50    119.47  2009"
      ]
     },
     "execution_count": 8,
     "metadata": {},
     "output_type": "execute_result"
    }
   ],
   "source": [
    "sources.head() # Look at the first 5 rows"
   ]
  },
  {
   "cell_type": "code",
   "execution_count": 9,
   "id": "18e3514c-e3ca-4176-9f55-55386a898ae5",
   "metadata": {},
   "outputs": [
    {
     "data": {
      "text/html": [
       "<div>\n",
       "<style scoped>\n",
       "    .dataframe tbody tr th:only-of-type {\n",
       "        vertical-align: middle;\n",
       "    }\n",
       "\n",
       "    .dataframe tbody tr th {\n",
       "        vertical-align: top;\n",
       "    }\n",
       "\n",
       "    .dataframe thead th {\n",
       "        text-align: right;\n",
       "    }\n",
       "</style>\n",
       "<table border=\"1\" class=\"dataframe\">\n",
       "  <thead>\n",
       "    <tr style=\"text-align: right;\">\n",
       "      <th></th>\n",
       "      <th>method</th>\n",
       "      <th>number</th>\n",
       "      <th>orbital_period</th>\n",
       "      <th>mass</th>\n",
       "      <th>distance</th>\n",
       "      <th>year</th>\n",
       "    </tr>\n",
       "  </thead>\n",
       "  <tbody>\n",
       "    <tr>\n",
       "      <th>1030</th>\n",
       "      <td>Transit</td>\n",
       "      <td>1</td>\n",
       "      <td>3.941507</td>\n",
       "      <td>NaN</td>\n",
       "      <td>172.0</td>\n",
       "      <td>2006</td>\n",
       "    </tr>\n",
       "    <tr>\n",
       "      <th>1031</th>\n",
       "      <td>Transit</td>\n",
       "      <td>1</td>\n",
       "      <td>2.615864</td>\n",
       "      <td>NaN</td>\n",
       "      <td>148.0</td>\n",
       "      <td>2007</td>\n",
       "    </tr>\n",
       "    <tr>\n",
       "      <th>1032</th>\n",
       "      <td>Transit</td>\n",
       "      <td>1</td>\n",
       "      <td>3.191524</td>\n",
       "      <td>NaN</td>\n",
       "      <td>174.0</td>\n",
       "      <td>2007</td>\n",
       "    </tr>\n",
       "    <tr>\n",
       "      <th>1033</th>\n",
       "      <td>Transit</td>\n",
       "      <td>1</td>\n",
       "      <td>4.125083</td>\n",
       "      <td>NaN</td>\n",
       "      <td>293.0</td>\n",
       "      <td>2008</td>\n",
       "    </tr>\n",
       "    <tr>\n",
       "      <th>1034</th>\n",
       "      <td>Transit</td>\n",
       "      <td>1</td>\n",
       "      <td>4.187757</td>\n",
       "      <td>NaN</td>\n",
       "      <td>260.0</td>\n",
       "      <td>2008</td>\n",
       "    </tr>\n",
       "  </tbody>\n",
       "</table>\n",
       "</div>"
      ],
      "text/plain": [
       "       method  number  orbital_period  mass  distance  year\n",
       "1030  Transit       1        3.941507   NaN     172.0  2006\n",
       "1031  Transit       1        2.615864   NaN     148.0  2007\n",
       "1032  Transit       1        3.191524   NaN     174.0  2007\n",
       "1033  Transit       1        4.125083   NaN     293.0  2008\n",
       "1034  Transit       1        4.187757   NaN     260.0  2008"
      ]
     },
     "execution_count": 9,
     "metadata": {},
     "output_type": "execute_result"
    }
   ],
   "source": [
    "sources.tail() # Look at the last 5 rows"
   ]
  },
  {
   "cell_type": "code",
   "execution_count": 10,
   "id": "f979f832-3e60-4719-b1f9-1b649a92fd0c",
   "metadata": {},
   "outputs": [
    {
     "data": {
      "text/plain": [
       "Index(['method', 'number', 'orbital_period', 'mass', 'distance', 'year'], dtype='object')"
      ]
     },
     "execution_count": 10,
     "metadata": {},
     "output_type": "execute_result"
    }
   ],
   "source": [
    "sources.columns # Returns all columns  namein data"
   ]
  },
  {
   "cell_type": "code",
   "execution_count": 30,
   "id": "8b620e68-ec6c-4a28-a9d9-9a8e2fd06659",
   "metadata": {},
   "outputs": [
    {
     "data": {
      "text/plain": [
       "array([269.3  , 874.774, 763.   , ...,   3.192,   4.125,   4.188])"
      ]
     },
     "metadata": {},
     "output_type": "display_data"
    }
   ],
   "source": [
    "# display(sources['orbital_period'])          # pandas series\n",
    "display(sources['orbital_period'].values)   # numpy array"
   ]
  },
  {
   "cell_type": "markdown",
   "id": "7356d5e6-c943-449c-8525-7c836a004a66",
   "metadata": {},
   "source": [
    "**Accesing rows and columns using `loc` and `iloc`**"
   ]
  },
  {
   "cell_type": "code",
   "execution_count": 31,
   "id": "d811ab67-c6ae-497c-a599-49c5a3edb40f",
   "metadata": {},
   "outputs": [
    {
     "data": {
      "text/html": [
       "<div>\n",
       "<style scoped>\n",
       "    .dataframe tbody tr th:only-of-type {\n",
       "        vertical-align: middle;\n",
       "    }\n",
       "\n",
       "    .dataframe tbody tr th {\n",
       "        vertical-align: top;\n",
       "    }\n",
       "\n",
       "    .dataframe thead th {\n",
       "        text-align: right;\n",
       "    }\n",
       "</style>\n",
       "<table border=\"1\" class=\"dataframe\">\n",
       "  <thead>\n",
       "    <tr style=\"text-align: right;\">\n",
       "      <th></th>\n",
       "      <th>method</th>\n",
       "      <th>number</th>\n",
       "      <th>orbital_period</th>\n",
       "      <th>mass</th>\n",
       "      <th>distance</th>\n",
       "      <th>year</th>\n",
       "    </tr>\n",
       "  </thead>\n",
       "  <tbody>\n",
       "    <tr>\n",
       "      <th>10</th>\n",
       "      <td>Radial Velocity</td>\n",
       "      <td>2</td>\n",
       "      <td>883.000000</td>\n",
       "      <td>0.860</td>\n",
       "      <td>74.79</td>\n",
       "      <td>2010</td>\n",
       "    </tr>\n",
       "    <tr>\n",
       "      <th>11</th>\n",
       "      <td>Radial Velocity</td>\n",
       "      <td>1</td>\n",
       "      <td>335.100000</td>\n",
       "      <td>9.880</td>\n",
       "      <td>39.43</td>\n",
       "      <td>2009</td>\n",
       "    </tr>\n",
       "    <tr>\n",
       "      <th>12</th>\n",
       "      <td>Radial Velocity</td>\n",
       "      <td>1</td>\n",
       "      <td>479.100000</td>\n",
       "      <td>3.880</td>\n",
       "      <td>97.28</td>\n",
       "      <td>2008</td>\n",
       "    </tr>\n",
       "    <tr>\n",
       "      <th>13</th>\n",
       "      <td>Radial Velocity</td>\n",
       "      <td>3</td>\n",
       "      <td>1078.000000</td>\n",
       "      <td>2.530</td>\n",
       "      <td>14.08</td>\n",
       "      <td>1996</td>\n",
       "    </tr>\n",
       "    <tr>\n",
       "      <th>14</th>\n",
       "      <td>Radial Velocity</td>\n",
       "      <td>3</td>\n",
       "      <td>2391.000000</td>\n",
       "      <td>0.540</td>\n",
       "      <td>14.08</td>\n",
       "      <td>2001</td>\n",
       "    </tr>\n",
       "    <tr>\n",
       "      <th>15</th>\n",
       "      <td>Radial Velocity</td>\n",
       "      <td>3</td>\n",
       "      <td>14002.000000</td>\n",
       "      <td>1.640</td>\n",
       "      <td>14.08</td>\n",
       "      <td>2009</td>\n",
       "    </tr>\n",
       "    <tr>\n",
       "      <th>16</th>\n",
       "      <td>Radial Velocity</td>\n",
       "      <td>1</td>\n",
       "      <td>4.230785</td>\n",
       "      <td>0.472</td>\n",
       "      <td>15.36</td>\n",
       "      <td>1995</td>\n",
       "    </tr>\n",
       "    <tr>\n",
       "      <th>17</th>\n",
       "      <td>Radial Velocity</td>\n",
       "      <td>5</td>\n",
       "      <td>14.651000</td>\n",
       "      <td>0.800</td>\n",
       "      <td>12.53</td>\n",
       "      <td>1996</td>\n",
       "    </tr>\n",
       "    <tr>\n",
       "      <th>18</th>\n",
       "      <td>Radial Velocity</td>\n",
       "      <td>5</td>\n",
       "      <td>44.380000</td>\n",
       "      <td>0.165</td>\n",
       "      <td>12.53</td>\n",
       "      <td>2004</td>\n",
       "    </tr>\n",
       "    <tr>\n",
       "      <th>19</th>\n",
       "      <td>Radial Velocity</td>\n",
       "      <td>5</td>\n",
       "      <td>4909.000000</td>\n",
       "      <td>3.530</td>\n",
       "      <td>12.53</td>\n",
       "      <td>2002</td>\n",
       "    </tr>\n",
       "  </tbody>\n",
       "</table>\n",
       "</div>"
      ],
      "text/plain": [
       "             method  number  orbital_period   mass  distance  year\n",
       "10  Radial Velocity       2      883.000000  0.860     74.79  2010\n",
       "11  Radial Velocity       1      335.100000  9.880     39.43  2009\n",
       "12  Radial Velocity       1      479.100000  3.880     97.28  2008\n",
       "13  Radial Velocity       3     1078.000000  2.530     14.08  1996\n",
       "14  Radial Velocity       3     2391.000000  0.540     14.08  2001\n",
       "15  Radial Velocity       3    14002.000000  1.640     14.08  2009\n",
       "16  Radial Velocity       1        4.230785  0.472     15.36  1995\n",
       "17  Radial Velocity       5       14.651000  0.800     12.53  1996\n",
       "18  Radial Velocity       5       44.380000  0.165     12.53  2004\n",
       "19  Radial Velocity       5     4909.000000  3.530     12.53  2002"
      ]
     },
     "execution_count": 31,
     "metadata": {},
     "output_type": "execute_result"
    }
   ],
   "source": [
    "sources.iloc[10:20]"
   ]
  },
  {
   "cell_type": "code",
   "execution_count": 15,
   "id": "632af82f-0a9e-48f9-9149-85b51cd4ba6f",
   "metadata": {},
   "outputs": [
    {
     "data": {
      "text/html": [
       "<div>\n",
       "<style scoped>\n",
       "    .dataframe tbody tr th:only-of-type {\n",
       "        vertical-align: middle;\n",
       "    }\n",
       "\n",
       "    .dataframe tbody tr th {\n",
       "        vertical-align: top;\n",
       "    }\n",
       "\n",
       "    .dataframe thead th {\n",
       "        text-align: right;\n",
       "    }\n",
       "</style>\n",
       "<table border=\"1\" class=\"dataframe\">\n",
       "  <thead>\n",
       "    <tr style=\"text-align: right;\">\n",
       "      <th></th>\n",
       "      <th>method</th>\n",
       "      <th>orbital_period</th>\n",
       "      <th>distance</th>\n",
       "    </tr>\n",
       "  </thead>\n",
       "  <tbody>\n",
       "    <tr>\n",
       "      <th>0</th>\n",
       "      <td>Radial Velocity</td>\n",
       "      <td>269.300000</td>\n",
       "      <td>77.40</td>\n",
       "    </tr>\n",
       "    <tr>\n",
       "      <th>1</th>\n",
       "      <td>Radial Velocity</td>\n",
       "      <td>874.774000</td>\n",
       "      <td>56.95</td>\n",
       "    </tr>\n",
       "    <tr>\n",
       "      <th>2</th>\n",
       "      <td>Radial Velocity</td>\n",
       "      <td>763.000000</td>\n",
       "      <td>19.84</td>\n",
       "    </tr>\n",
       "    <tr>\n",
       "      <th>3</th>\n",
       "      <td>Radial Velocity</td>\n",
       "      <td>326.030000</td>\n",
       "      <td>110.62</td>\n",
       "    </tr>\n",
       "    <tr>\n",
       "      <th>4</th>\n",
       "      <td>Radial Velocity</td>\n",
       "      <td>516.220000</td>\n",
       "      <td>119.47</td>\n",
       "    </tr>\n",
       "    <tr>\n",
       "      <th>...</th>\n",
       "      <td>...</td>\n",
       "      <td>...</td>\n",
       "      <td>...</td>\n",
       "    </tr>\n",
       "    <tr>\n",
       "      <th>1014</th>\n",
       "      <td>Transit</td>\n",
       "      <td>4.378090</td>\n",
       "      <td>330.00</td>\n",
       "    </tr>\n",
       "    <tr>\n",
       "      <th>1017</th>\n",
       "      <td>Transit</td>\n",
       "      <td>4.086052</td>\n",
       "      <td>380.00</td>\n",
       "    </tr>\n",
       "    <tr>\n",
       "      <th>1018</th>\n",
       "      <td>Transit</td>\n",
       "      <td>4.614420</td>\n",
       "      <td>225.00</td>\n",
       "    </tr>\n",
       "    <tr>\n",
       "      <th>1033</th>\n",
       "      <td>Transit</td>\n",
       "      <td>4.125083</td>\n",
       "      <td>293.00</td>\n",
       "    </tr>\n",
       "    <tr>\n",
       "      <th>1034</th>\n",
       "      <td>Transit</td>\n",
       "      <td>4.187757</td>\n",
       "      <td>260.00</td>\n",
       "    </tr>\n",
       "  </tbody>\n",
       "</table>\n",
       "<p>806 rows × 3 columns</p>\n",
       "</div>"
      ],
      "text/plain": [
       "               method  orbital_period  distance\n",
       "0     Radial Velocity      269.300000     77.40\n",
       "1     Radial Velocity      874.774000     56.95\n",
       "2     Radial Velocity      763.000000     19.84\n",
       "3     Radial Velocity      326.030000    110.62\n",
       "4     Radial Velocity      516.220000    119.47\n",
       "...               ...             ...       ...\n",
       "1014          Transit        4.378090    330.00\n",
       "1017          Transit        4.086052    380.00\n",
       "1018          Transit        4.614420    225.00\n",
       "1033          Transit        4.125083    293.00\n",
       "1034          Transit        4.187757    260.00\n",
       "\n",
       "[806 rows x 3 columns]"
      ]
     },
     "execution_count": 15,
     "metadata": {},
     "output_type": "execute_result"
    }
   ],
   "source": [
    "# Accesing rows and columns satisfying a condition\n",
    "condition = sources['orbital_period'] > 4\n",
    "sources.loc[condition, ['method','orbital_period','distance']]"
   ]
  },
  {
   "cell_type": "code",
   "execution_count": 16,
   "id": "93416c87-270d-440e-bd08-d262eb6345bc",
   "metadata": {},
   "outputs": [
    {
     "data": {
      "text/html": [
       "<div>\n",
       "<style scoped>\n",
       "    .dataframe tbody tr th:only-of-type {\n",
       "        vertical-align: middle;\n",
       "    }\n",
       "\n",
       "    .dataframe tbody tr th {\n",
       "        vertical-align: top;\n",
       "    }\n",
       "\n",
       "    .dataframe thead th {\n",
       "        text-align: right;\n",
       "    }\n",
       "</style>\n",
       "<table border=\"1\" class=\"dataframe\">\n",
       "  <thead>\n",
       "    <tr style=\"text-align: right;\">\n",
       "      <th></th>\n",
       "      <th>number</th>\n",
       "      <th>orbital_period</th>\n",
       "      <th>mass</th>\n",
       "      <th>distance</th>\n",
       "      <th>year</th>\n",
       "    </tr>\n",
       "  </thead>\n",
       "  <tbody>\n",
       "    <tr>\n",
       "      <th>count</th>\n",
       "      <td>1035.000000</td>\n",
       "      <td>992.000000</td>\n",
       "      <td>513.000000</td>\n",
       "      <td>808.000000</td>\n",
       "      <td>1035.000000</td>\n",
       "    </tr>\n",
       "    <tr>\n",
       "      <th>mean</th>\n",
       "      <td>1.785507</td>\n",
       "      <td>2002.917596</td>\n",
       "      <td>2.638161</td>\n",
       "      <td>264.069282</td>\n",
       "      <td>2009.070531</td>\n",
       "    </tr>\n",
       "    <tr>\n",
       "      <th>std</th>\n",
       "      <td>1.240976</td>\n",
       "      <td>26014.728304</td>\n",
       "      <td>3.818617</td>\n",
       "      <td>733.116493</td>\n",
       "      <td>3.972567</td>\n",
       "    </tr>\n",
       "    <tr>\n",
       "      <th>min</th>\n",
       "      <td>1.000000</td>\n",
       "      <td>0.090706</td>\n",
       "      <td>0.003600</td>\n",
       "      <td>1.350000</td>\n",
       "      <td>1989.000000</td>\n",
       "    </tr>\n",
       "    <tr>\n",
       "      <th>25%</th>\n",
       "      <td>1.000000</td>\n",
       "      <td>5.442540</td>\n",
       "      <td>0.229000</td>\n",
       "      <td>32.560000</td>\n",
       "      <td>2007.000000</td>\n",
       "    </tr>\n",
       "    <tr>\n",
       "      <th>50%</th>\n",
       "      <td>1.000000</td>\n",
       "      <td>39.979500</td>\n",
       "      <td>1.260000</td>\n",
       "      <td>55.250000</td>\n",
       "      <td>2010.000000</td>\n",
       "    </tr>\n",
       "    <tr>\n",
       "      <th>75%</th>\n",
       "      <td>2.000000</td>\n",
       "      <td>526.005000</td>\n",
       "      <td>3.040000</td>\n",
       "      <td>178.500000</td>\n",
       "      <td>2012.000000</td>\n",
       "    </tr>\n",
       "    <tr>\n",
       "      <th>max</th>\n",
       "      <td>7.000000</td>\n",
       "      <td>730000.000000</td>\n",
       "      <td>25.000000</td>\n",
       "      <td>8500.000000</td>\n",
       "      <td>2014.000000</td>\n",
       "    </tr>\n",
       "  </tbody>\n",
       "</table>\n",
       "</div>"
      ],
      "text/plain": [
       "            number  orbital_period        mass     distance         year\n",
       "count  1035.000000      992.000000  513.000000   808.000000  1035.000000\n",
       "mean      1.785507     2002.917596    2.638161   264.069282  2009.070531\n",
       "std       1.240976    26014.728304    3.818617   733.116493     3.972567\n",
       "min       1.000000        0.090706    0.003600     1.350000  1989.000000\n",
       "25%       1.000000        5.442540    0.229000    32.560000  2007.000000\n",
       "50%       1.000000       39.979500    1.260000    55.250000  2010.000000\n",
       "75%       2.000000      526.005000    3.040000   178.500000  2012.000000\n",
       "max       7.000000   730000.000000   25.000000  8500.000000  2014.000000"
      ]
     },
     "execution_count": 16,
     "metadata": {},
     "output_type": "execute_result"
    }
   ],
   "source": [
    "sources.describe()"
   ]
  },
  {
   "cell_type": "markdown",
   "id": "a818767e-8ece-4898-b69f-94f21449e0e3",
   "metadata": {},
   "source": [
    "<hr>\n",
    "\n",
    "#  <b>3. Rich textual elements  - <i> Markdown option</i>  </b>\n",
    "\n",
    "Markdown is a markup language that is a writing standard for data scientists and analysts. The markup language is similar to Hypertext Markup Language(HTML), and most of the classic HTML tags are compatible with markdown and can be interpreted correctly. \n",
    "\n",
    "<b> 3. 1. Text </b>\n",
    "\n",
    "The Headings start with '#,' i.e., hash symbol followed by the space, and there are six Headings. Also, it is possible to use classic h1-h6 HTML tags.\n",
    "\n",
    "`### Heading 3`\n",
    "\n",
    "Bold text is written between two * symbols `** bold text goes here **` <br>\n",
    "Italic text is written betweein one * symbol `* italic text goes here *` <br>\n",
    "Equations can be written using classic Tex symbols:\n",
    "\n",
    "<div align = 'center'>\n",
    "$CCF(\\tau) = \\int x(t) x(t + \\tau) \\mathrm{d}t$\n",
    "</div>\n",
    "\n",
    "<b> 3. 2. Code  </b>\n",
    "\n",
    "Code section can be written as inline or as a multi-line code sample. The single line code sample can be written using:"
   ]
  },
  {
   "cell_type": "markdown",
   "id": "c7056f48-48a4-4139-bff4-524549ffa1ef",
   "metadata": {},
   "source": [
    "` code goes here `"
   ]
  },
  {
   "cell_type": "markdown",
   "id": "b605e6b6-b1bb-4fa8-9716-34b82f9197eb",
   "metadata": {},
   "source": [
    "Multiple lines of the code can be shown as:"
   ]
  },
  {
   "cell_type": "markdown",
   "id": "1d7b8d5e-4825-4589-9335-53229ca96d4e",
   "metadata": {},
   "source": [
    "```Python\n",
    "from math import pi\n",
    "print(pi)\n",
    "````"
   ]
  },
  {
   "cell_type": "markdown",
   "id": "447e0946-9e3e-426e-acc9-d12339e0cb0a",
   "metadata": {},
   "source": [
    "<b> 3. 3. Links and images </b>\n",
    "\n",
    "Links are made using classical <b>a</b> HTML tag: `<a href=\"http://www.google.com\"> Google </a>`. <br>\n",
    "Images can also be uploaded using the corresponding HTML tag: `<img src=\"https://www.google.com/image.png\" width =\"500\" height=500 >`"
   ]
  },
  {
   "cell_type": "markdown",
   "id": "940c2226-bfd6-4ec7-840a-0f0c4310514e",
   "metadata": {},
   "source": [
    "<hr>\n",
    "\n",
    "####  <b> 4. Magic commands  </b>\n",
    "\n",
    "Some predefined, so-called ‘magic functions’ (commands) can be practical while working with the Jupyter notebooks. To see which magic commands are available in the installed interpreter, it is sufficient to run the following command:\n"
   ]
  },
  {
   "cell_type": "code",
   "execution_count": 32,
   "id": "5b969234-1b47-4d4f-977b-dde89c00df4d",
   "metadata": {},
   "outputs": [
    {
     "data": {
      "application/json": {
       "cell": {
        "!": "OSMagics",
        "HTML": "Other",
        "SVG": "Other",
        "bash": "Other",
        "capture": "ExecutionMagics",
        "debug": "ExecutionMagics",
        "file": "Other",
        "html": "DisplayMagics",
        "javascript": "DisplayMagics",
        "js": "DisplayMagics",
        "latex": "DisplayMagics",
        "markdown": "DisplayMagics",
        "perl": "Other",
        "prun": "ExecutionMagics",
        "pypy": "Other",
        "python": "Other",
        "python2": "Other",
        "python3": "Other",
        "ruby": "Other",
        "script": "ScriptMagics",
        "sh": "Other",
        "svg": "DisplayMagics",
        "sx": "OSMagics",
        "system": "OSMagics",
        "time": "ExecutionMagics",
        "timeit": "ExecutionMagics",
        "writefile": "OSMagics"
       },
       "line": {
        "alias": "OSMagics",
        "alias_magic": "BasicMagics",
        "autoawait": "AsyncMagics",
        "autocall": "AutoMagics",
        "automagic": "AutoMagics",
        "autosave": "KernelMagics",
        "bookmark": "OSMagics",
        "cat": "Other",
        "cd": "OSMagics",
        "clear": "KernelMagics",
        "colors": "BasicMagics",
        "conda": "PackagingMagics",
        "config": "ConfigMagics",
        "connect_info": "KernelMagics",
        "cp": "Other",
        "debug": "ExecutionMagics",
        "dhist": "OSMagics",
        "dirs": "OSMagics",
        "doctest_mode": "BasicMagics",
        "ed": "Other",
        "edit": "KernelMagics",
        "env": "OSMagics",
        "gui": "BasicMagics",
        "hist": "Other",
        "history": "HistoryMagics",
        "killbgscripts": "ScriptMagics",
        "ldir": "Other",
        "less": "KernelMagics",
        "lf": "Other",
        "lk": "Other",
        "ll": "Other",
        "load": "CodeMagics",
        "load_ext": "ExtensionMagics",
        "loadpy": "CodeMagics",
        "logoff": "LoggingMagics",
        "logon": "LoggingMagics",
        "logstart": "LoggingMagics",
        "logstate": "LoggingMagics",
        "logstop": "LoggingMagics",
        "ls": "Other",
        "lsmagic": "BasicMagics",
        "lx": "Other",
        "macro": "ExecutionMagics",
        "magic": "BasicMagics",
        "man": "KernelMagics",
        "matplotlib": "PylabMagics",
        "mkdir": "Other",
        "more": "KernelMagics",
        "mv": "Other",
        "notebook": "BasicMagics",
        "page": "BasicMagics",
        "pastebin": "CodeMagics",
        "pdb": "ExecutionMagics",
        "pdef": "NamespaceMagics",
        "pdoc": "NamespaceMagics",
        "pfile": "NamespaceMagics",
        "pinfo": "NamespaceMagics",
        "pinfo2": "NamespaceMagics",
        "pip": "PackagingMagics",
        "popd": "OSMagics",
        "pprint": "BasicMagics",
        "precision": "BasicMagics",
        "prun": "ExecutionMagics",
        "psearch": "NamespaceMagics",
        "psource": "NamespaceMagics",
        "pushd": "OSMagics",
        "pwd": "OSMagics",
        "pycat": "OSMagics",
        "pylab": "PylabMagics",
        "qtconsole": "KernelMagics",
        "quickref": "BasicMagics",
        "recall": "HistoryMagics",
        "rehashx": "OSMagics",
        "reload_ext": "ExtensionMagics",
        "rep": "Other",
        "rerun": "HistoryMagics",
        "reset": "NamespaceMagics",
        "reset_selective": "NamespaceMagics",
        "rm": "Other",
        "rmdir": "Other",
        "run": "ExecutionMagics",
        "save": "CodeMagics",
        "sc": "OSMagics",
        "set_env": "OSMagics",
        "store": "StoreMagics",
        "sx": "OSMagics",
        "system": "OSMagics",
        "tb": "ExecutionMagics",
        "time": "ExecutionMagics",
        "timeit": "ExecutionMagics",
        "unalias": "OSMagics",
        "unload_ext": "ExtensionMagics",
        "who": "NamespaceMagics",
        "who_ls": "NamespaceMagics",
        "whos": "NamespaceMagics",
        "xdel": "NamespaceMagics",
        "xmode": "BasicMagics"
       }
      },
      "text/plain": [
       "Available line magics:\n",
       "%alias  %alias_magic  %autoawait  %autocall  %automagic  %autosave  %bookmark  %cat  %cd  %clear  %colors  %conda  %config  %connect_info  %cp  %debug  %dhist  %dirs  %doctest_mode  %ed  %edit  %env  %gui  %hist  %history  %killbgscripts  %ldir  %less  %lf  %lk  %ll  %load  %load_ext  %loadpy  %logoff  %logon  %logstart  %logstate  %logstop  %ls  %lsmagic  %lx  %macro  %magic  %man  %matplotlib  %mkdir  %more  %mv  %notebook  %page  %pastebin  %pdb  %pdef  %pdoc  %pfile  %pinfo  %pinfo2  %pip  %popd  %pprint  %precision  %prun  %psearch  %psource  %pushd  %pwd  %pycat  %pylab  %qtconsole  %quickref  %recall  %rehashx  %reload_ext  %rep  %rerun  %reset  %reset_selective  %rm  %rmdir  %run  %save  %sc  %set_env  %store  %sx  %system  %tb  %time  %timeit  %unalias  %unload_ext  %who  %who_ls  %whos  %xdel  %xmode\n",
       "\n",
       "Available cell magics:\n",
       "%%!  %%HTML  %%SVG  %%bash  %%capture  %%debug  %%file  %%html  %%javascript  %%js  %%latex  %%markdown  %%perl  %%prun  %%pypy  %%python  %%python2  %%python3  %%ruby  %%script  %%sh  %%svg  %%sx  %%system  %%time  %%timeit  %%writefile\n",
       "\n",
       "Automagic is ON, % prefix IS NOT needed for line magics."
      ]
     },
     "execution_count": 32,
     "metadata": {},
     "output_type": "execute_result"
    }
   ],
   "source": [
    "%lsmagic"
   ]
  },
  {
   "cell_type": "markdown",
   "id": "0fac711b-afae-48dc-accf-8ef15acda663",
   "metadata": {},
   "source": [
    "Also, a detailed explanation for the usage of each magic command is shown on this <a href=\"https://ipython.readthedocs.io/en/stable/interactive/magics.html\">link</a>. We will present some useful commands to make a programmer's life easier while working with Jupyter notebooks."
   ]
  },
  {
   "cell_type": "code",
   "execution_count": 33,
   "id": "2cd5685e-8a54-4e41-b4aa-b20d706629e8",
   "metadata": {},
   "outputs": [
    {
     "data": {
      "text/plain": [
       "'%.3f'"
      ]
     },
     "execution_count": 33,
     "metadata": {},
     "output_type": "execute_result"
    }
   ],
   "source": [
    "# Set floating point precision for pretty printing\n",
    "%precision 3"
   ]
  },
  {
   "cell_type": "code",
   "execution_count": 34,
   "id": "78268eb3-ab35-4a62-a40a-8fb9626a1fc8",
   "metadata": {},
   "outputs": [
    {
     "data": {
      "text/plain": [
       "3.142"
      ]
     },
     "execution_count": 34,
     "metadata": {},
     "output_type": "execute_result"
    }
   ],
   "source": [
    "from math import pi\n",
    "pi"
   ]
  },
  {
   "cell_type": "code",
   "execution_count": 35,
   "id": "ee66daee-9273-4060-bad9-3a68a7d679e0",
   "metadata": {},
   "outputs": [
    {
     "name": "stdout",
     "output_type": "stream",
     "text": [
      "3.141592653589793\n"
     ]
    }
   ],
   "source": [
    "print(pi)"
   ]
  },
  {
   "cell_type": "code",
   "execution_count": 3,
   "id": "e73d1eba-3a91-480f-b436-f0e59d783e42",
   "metadata": {},
   "outputs": [
    {
     "data": {
      "text/plain": [
       "'/home/viktor/Desktop'"
      ]
     },
     "execution_count": 3,
     "metadata": {},
     "output_type": "execute_result"
    }
   ],
   "source": [
    "%pwd # Get a current working directory path."
   ]
  },
  {
   "cell_type": "code",
   "execution_count": 31,
   "id": "8be18bc0-bb3a-4a59-9df5-e28820367821",
   "metadata": {},
   "outputs": [
    {
     "name": "stdout",
     "output_type": "stream",
     "text": [
      "CPU times: user 2 µs, sys: 1e+03 ns, total: 3 µs\n",
      "Wall time: 4.29 µs\n"
     ]
    },
    {
     "data": {
      "text/plain": [
       "59049"
      ]
     },
     "execution_count": 31,
     "metadata": {},
     "output_type": "execute_result"
    }
   ],
   "source": [
    "# Give a time needed to execute a command \n",
    "%time 3**10"
   ]
  },
  {
   "cell_type": "code",
   "execution_count": 32,
   "id": "d2a9d280-261d-4935-ab29-b7d9df17b38c",
   "metadata": {},
   "outputs": [],
   "source": [
    "# Run pip command to install in the current kernel\n",
    "%pip install --user  libwwz"
   ]
  },
  {
   "cell_type": "code",
   "execution_count": null,
   "id": "4eb51902-1176-40d6-89aa-df3bff668137",
   "metadata": {},
   "outputs": [],
   "source": [
    "# Load a content of an other file \n",
    "# % load '/home/viktor/Desktop/planets.csv'\n",
    "%load file_name "
   ]
  },
  {
   "cell_type": "code",
   "execution_count": 41,
   "id": "c322f053-ba94-4ca1-93f2-0048f43b8c3e",
   "metadata": {},
   "outputs": [],
   "source": [
    "# To enable the inline backend for usage with the Notebook\n",
    "%matplotlib inline "
   ]
  },
  {
   "cell_type": "markdown",
   "id": "7488f492-c00a-4555-9e12-e1b6f7b34d02",
   "metadata": {},
   "source": [
    "<hr>\n",
    "\n",
    "####  <b> Interactive Jupyter notebook - a qucik look   </b>\n",
    "\n",
    "\n",
    "It is possible to make a Jupyter notebook more interactive with a user. That can be achieved by using a widget package.\n",
    "\n",
    "In order to do that, we need to import `widgets` from `ipywidgets` package. Detailed official documentation can be seen <a href=\"https://ipywidgets.readthedocs.io/en/latest/\">here</a>, and one valuable link is <a href=\"https://blog.dominodatalab.com/interactive-dashboards-in-jupyter\"> this one</a>. If you have some problems to isntall IPywidgets, please see StackOverflow link given <a href=\"https://stackoverflow.com/questions/36351109/ipython-notebook-ipywidgets-does-not-show\">here</a>."
   ]
  },
  {
   "cell_type": "code",
   "execution_count": 25,
   "id": "5b7dd721-7e8a-477a-b386-d061d9fbe104",
   "metadata": {},
   "outputs": [
    {
     "data": {
      "application/vnd.jupyter.widget-view+json": {
       "model_id": "9d4c3ebcf6d34892be89630c9cac87e5",
       "version_major": 2,
       "version_minor": 0
      },
      "text/plain": [
       "Text(value='')"
      ]
     },
     "metadata": {},
     "output_type": "display_data"
    },
    {
     "data": {
      "application/vnd.jupyter.widget-view+json": {
       "model_id": "f5564ff3aeb84e78be11d0d0eb442653",
       "version_major": 2,
       "version_minor": 0
      },
      "text/plain": [
       "Button(description='Click me!', style=ButtonStyle())"
      ]
     },
     "metadata": {},
     "output_type": "display_data"
    },
    {
     "data": {
      "application/vnd.jupyter.widget-view+json": {
       "model_id": "1a9fddd3f3bd4dab972df668a89ce4d9",
       "version_major": 2,
       "version_minor": 0
      },
      "text/plain": [
       "Label(value='')"
      ]
     },
     "metadata": {},
     "output_type": "display_data"
    }
   ],
   "source": [
    "from ipywidgets import widgets\n",
    "from IPython.display import display\n",
    "\n",
    "txt = widgets.Text() # input field for text\n",
    "display(txt)         # display a text field component\n",
    "\n",
    "btn = widgets.Button(description = 'Click me!') # creates one button with 'Click me' text written on it\n",
    "display(btn)\n",
    "\n",
    "label = widgets.Label() # A label is a graphical component generally used to display a textual object.\n",
    "display(label)\n",
    "\n",
    "def action(a):\n",
    "    val = int(txt.value);\n",
    "    label.value = 'result = ' + str(val)\n",
    "    \n",
    "btn.on_click(action)"
   ]
  },
  {
   "cell_type": "markdown",
   "id": "9bc0df4a-3e90-4dd6-8032-c00e6aefb25a",
   "metadata": {},
   "source": [
    "<hr>\n",
    "\n",
    "####  <b> Saving your work    </b>\n",
    "\n",
    "\n",
    "In practice, a common scenario is that one would want to share his/hers notebooks with colleagues or friends to show them what they have been working on. However, the notebook documents are JSON documents that contain text, source code, rich media output, and metadata. Hence, they are challenging to read if an interpreter is not installed. \n",
    "\n",
    "Because of that, it is possible to save (download) created notebooks in various file formats, such as HTML, PDF, Python script, etc. \n",
    "\n",
    "To do that, go to File ->  Export Notebook As  -> Choose a desired exported file format from the drop-down list. Besides that, it is possible to use a command nbconvert in the terminal to make the same outcome:\n",
    "\n",
    "\n",
    "\n",
    "`jupyter nbconvert --to html Untitled.ipynb`\n",
    "\n"
   ]
  },
  {
   "cell_type": "markdown",
   "id": "9c472ff6-01d9-4fb4-ab96-c2d1aaec9225",
   "metadata": {},
   "source": [
    "\n",
    "<hr>"
   ]
  }
 ],
 "metadata": {
  "kernelspec": {
   "display_name": "Python 3",
   "language": "python",
   "name": "python3"
  },
  "language_info": {
   "codemirror_mode": {
    "name": "ipython",
    "version": 3
   },
   "file_extension": ".py",
   "mimetype": "text/x-python",
   "name": "python",
   "nbconvert_exporter": "python",
   "pygments_lexer": "ipython3",
   "version": "3.8.8"
  }
 },
 "nbformat": 4,
 "nbformat_minor": 5
}
